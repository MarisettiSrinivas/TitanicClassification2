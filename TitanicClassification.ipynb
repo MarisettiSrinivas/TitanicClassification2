{
 "cells": [
  {
   "cell_type": "markdown",
   "id": "8080c676",
   "metadata": {},
   "source": [
    "<center>\n",
    "    \n",
    "# Titanic Survival Prediction Project\n",
    "    \n",
    "</center>\n",
    "\n",
    "![My Local Image](https://maritimecyprus.com/wp-content/uploads/2015/10/titanic-infographic-696x431.jpg)\n",
    "\n",
    "## Introduction\n",
    "This Jupyter Notebook serves as a comprehensive guide for predicting the likelihood of survival for passengers on the Titanic. We will analyze the Titanic dataset, which includes various features such as age, gender, socio-economic class, and more. Our goal is to build a machine learning model that can predict whether a passenger survived or not based on these factors.\n",
    "\n",
    "### Dataset\n",
    "We will be using the Titanic dataset, which contains information about passengers on the Titanic, including:\n",
    "\n",
    "- `pclass`: Passenger class (1st, 2nd, or 3rd)\n",
    "- `age`: Age of the passenger\n",
    "- `sibsp`: Number of siblings or spouses aboard\n",
    "- `parch`: Number of parents or children aboard\n",
    "- `fare`: Fare paid for the ticket\n",
    "- `sex`: Gender of the passenger\n",
    "- `embarked`: Port of embarkation (C = Cherbourg, Q = Queenstown, S = Southampton)\n",
    "- `survived`: Survival status (0 = No, 1 = Yes)\n",
    "\n",
    "### Steps\n",
    "We will follow these steps in our analysis and modeling:\n",
    "\n",
    "1. Data Loading: Load the Titanic dataset.\n",
    "2. Data Preprocessing: Handle missing values, encode categorical variables, and select relevant features.\n",
    "3. Data Exploration: Explore the dataset to gain insights.\n",
    "4. Data Splitting: Split the data into training and testing sets.\n",
    "5. Feature Scaling: Standardize the features for modeling.\n",
    "6. Model Selection: Choose a machine learning algorithm (e.g., Random Forest).\n",
    "7. Model Training: Train the selected model on the training data.\n",
    "8. Model Evaluation: Evaluate the model's performance using accuracy and classification report.\n",
    "9. Visualization: Create visualizations to understand feature importance and model results.\n",
    "10. Conclusion: Summarize the findings and model's performance.\n",
    "\n",
    "Let's get started with our analysis and prediction!\n"
   ]
  },
  {
   "cell_type": "markdown",
   "id": "49aad30f",
   "metadata": {},
   "source": [
    "## 1.Import Necessary Libraries\n",
    "You'll start by importing the necessary Python libraries and modules for data manipulation, visualization, and machine learning."
   ]
  },
  {
   "cell_type": "code",
   "execution_count": 1,
   "id": "d5f62bc0",
   "metadata": {},
   "outputs": [],
   "source": [
    "import pandas as pd\n",
    "import numpy as np\n",
    "import matplotlib.pyplot as plt\n",
    "import seaborn as sns\n",
    "from sklearn.model_selection import train_test_split\n",
    "from sklearn.preprocessing import StandardScaler\n",
    "from sklearn.ensemble import RandomForestClassifier\n",
    "from sklearn.metrics import accuracy_score, classification_report\n"
   ]
  },
  {
   "cell_type": "markdown",
   "id": "cd2a854e",
   "metadata": {},
   "source": [
    "## 2.Load the Titanic Dataset\n",
    "You can obtain the Titanic dataset from various sources, but for this example, we'll use the seaborn library to load it."
   ]
  },
  {
   "cell_type": "code",
   "execution_count": 5,
   "id": "101266ae",
   "metadata": {},
   "outputs": [],
   "source": [
    "# Load the Titanic dataset\n",
    "titanic = pd.read_csv('Titanic-Dataset.csv')\n"
   ]
  },
  {
   "cell_type": "code",
   "execution_count": 18,
   "id": "453cd905",
   "metadata": {},
   "outputs": [
    {
     "data": {
      "text/html": [
       "<div>\n",
       "<style scoped>\n",
       "    .dataframe tbody tr th:only-of-type {\n",
       "        vertical-align: middle;\n",
       "    }\n",
       "\n",
       "    .dataframe tbody tr th {\n",
       "        vertical-align: top;\n",
       "    }\n",
       "\n",
       "    .dataframe thead th {\n",
       "        text-align: right;\n",
       "    }\n",
       "</style>\n",
       "<table border=\"1\" class=\"dataframe\">\n",
       "  <thead>\n",
       "    <tr style=\"text-align: right;\">\n",
       "      <th></th>\n",
       "      <th>PassengerId</th>\n",
       "      <th>Survived</th>\n",
       "      <th>Name</th>\n",
       "      <th>Age</th>\n",
       "      <th>SibSp</th>\n",
       "      <th>Parch</th>\n",
       "      <th>Ticket</th>\n",
       "      <th>Fare</th>\n",
       "      <th>Sex_male</th>\n",
       "      <th>Pclass_2</th>\n",
       "      <th>Pclass_3</th>\n",
       "      <th>Embarked_Q</th>\n",
       "      <th>Embarked_S</th>\n",
       "    </tr>\n",
       "  </thead>\n",
       "  <tbody>\n",
       "    <tr>\n",
       "      <th>0</th>\n",
       "      <td>1</td>\n",
       "      <td>0</td>\n",
       "      <td>Braund, Mr. Owen Harris</td>\n",
       "      <td>22.0</td>\n",
       "      <td>1</td>\n",
       "      <td>0</td>\n",
       "      <td>A/5 21171</td>\n",
       "      <td>7.2500</td>\n",
       "      <td>1</td>\n",
       "      <td>0</td>\n",
       "      <td>1</td>\n",
       "      <td>0</td>\n",
       "      <td>1</td>\n",
       "    </tr>\n",
       "    <tr>\n",
       "      <th>1</th>\n",
       "      <td>2</td>\n",
       "      <td>1</td>\n",
       "      <td>Cumings, Mrs. John Bradley (Florence Briggs Th...</td>\n",
       "      <td>38.0</td>\n",
       "      <td>1</td>\n",
       "      <td>0</td>\n",
       "      <td>PC 17599</td>\n",
       "      <td>71.2833</td>\n",
       "      <td>0</td>\n",
       "      <td>0</td>\n",
       "      <td>0</td>\n",
       "      <td>0</td>\n",
       "      <td>0</td>\n",
       "    </tr>\n",
       "    <tr>\n",
       "      <th>2</th>\n",
       "      <td>3</td>\n",
       "      <td>1</td>\n",
       "      <td>Heikkinen, Miss. Laina</td>\n",
       "      <td>26.0</td>\n",
       "      <td>0</td>\n",
       "      <td>0</td>\n",
       "      <td>STON/O2. 3101282</td>\n",
       "      <td>7.9250</td>\n",
       "      <td>0</td>\n",
       "      <td>0</td>\n",
       "      <td>1</td>\n",
       "      <td>0</td>\n",
       "      <td>1</td>\n",
       "    </tr>\n",
       "    <tr>\n",
       "      <th>3</th>\n",
       "      <td>4</td>\n",
       "      <td>1</td>\n",
       "      <td>Futrelle, Mrs. Jacques Heath (Lily May Peel)</td>\n",
       "      <td>35.0</td>\n",
       "      <td>1</td>\n",
       "      <td>0</td>\n",
       "      <td>113803</td>\n",
       "      <td>53.1000</td>\n",
       "      <td>0</td>\n",
       "      <td>0</td>\n",
       "      <td>0</td>\n",
       "      <td>0</td>\n",
       "      <td>1</td>\n",
       "    </tr>\n",
       "    <tr>\n",
       "      <th>4</th>\n",
       "      <td>5</td>\n",
       "      <td>0</td>\n",
       "      <td>Allen, Mr. William Henry</td>\n",
       "      <td>35.0</td>\n",
       "      <td>0</td>\n",
       "      <td>0</td>\n",
       "      <td>373450</td>\n",
       "      <td>8.0500</td>\n",
       "      <td>1</td>\n",
       "      <td>0</td>\n",
       "      <td>1</td>\n",
       "      <td>0</td>\n",
       "      <td>1</td>\n",
       "    </tr>\n",
       "  </tbody>\n",
       "</table>\n",
       "</div>"
      ],
      "text/plain": [
       "   PassengerId  Survived                                               Name  \\\n",
       "0            1         0                            Braund, Mr. Owen Harris   \n",
       "1            2         1  Cumings, Mrs. John Bradley (Florence Briggs Th...   \n",
       "2            3         1                             Heikkinen, Miss. Laina   \n",
       "3            4         1       Futrelle, Mrs. Jacques Heath (Lily May Peel)   \n",
       "4            5         0                           Allen, Mr. William Henry   \n",
       "\n",
       "    Age  SibSp  Parch            Ticket     Fare  Sex_male  Pclass_2  \\\n",
       "0  22.0      1      0         A/5 21171   7.2500         1         0   \n",
       "1  38.0      1      0          PC 17599  71.2833         0         0   \n",
       "2  26.0      0      0  STON/O2. 3101282   7.9250         0         0   \n",
       "3  35.0      1      0            113803  53.1000         0         0   \n",
       "4  35.0      0      0            373450   8.0500         1         0   \n",
       "\n",
       "   Pclass_3  Embarked_Q  Embarked_S  \n",
       "0         1           0           1  \n",
       "1         0           0           0  \n",
       "2         1           0           1  \n",
       "3         0           0           1  \n",
       "4         1           0           1  "
      ]
     },
     "execution_count": 18,
     "metadata": {},
     "output_type": "execute_result"
    }
   ],
   "source": [
    "# printing the first 5 rows of the dataframe\n",
    "titanic.head()"
   ]
  },
  {
   "cell_type": "code",
   "execution_count": 19,
   "id": "68f6973c",
   "metadata": {},
   "outputs": [
    {
     "data": {
      "text/plain": [
       "(891, 13)"
      ]
     },
     "execution_count": 19,
     "metadata": {},
     "output_type": "execute_result"
    }
   ],
   "source": [
    "# number of rows and Columns\n",
    "titanic.shape"
   ]
  },
  {
   "cell_type": "code",
   "execution_count": 20,
   "id": "3c161716",
   "metadata": {},
   "outputs": [
    {
     "name": "stdout",
     "output_type": "stream",
     "text": [
      "<class 'pandas.core.frame.DataFrame'>\n",
      "RangeIndex: 891 entries, 0 to 890\n",
      "Data columns (total 13 columns):\n",
      " #   Column       Non-Null Count  Dtype  \n",
      "---  ------       --------------  -----  \n",
      " 0   PassengerId  891 non-null    int64  \n",
      " 1   Survived     891 non-null    int64  \n",
      " 2   Name         891 non-null    object \n",
      " 3   Age          891 non-null    float64\n",
      " 4   SibSp        891 non-null    int64  \n",
      " 5   Parch        891 non-null    int64  \n",
      " 6   Ticket       891 non-null    object \n",
      " 7   Fare         891 non-null    float64\n",
      " 8   Sex_male     891 non-null    uint8  \n",
      " 9   Pclass_2     891 non-null    uint8  \n",
      " 10  Pclass_3     891 non-null    uint8  \n",
      " 11  Embarked_Q   891 non-null    uint8  \n",
      " 12  Embarked_S   891 non-null    uint8  \n",
      "dtypes: float64(2), int64(4), object(2), uint8(5)\n",
      "memory usage: 60.2+ KB\n"
     ]
    }
   ],
   "source": [
    "# getting some informations about the data\n",
    "titanic.info()"
   ]
  },
  {
   "cell_type": "code",
   "execution_count": 21,
   "id": "1a772146",
   "metadata": {},
   "outputs": [
    {
     "data": {
      "text/plain": [
       "PassengerId    0\n",
       "Survived       0\n",
       "Name           0\n",
       "Age            0\n",
       "SibSp          0\n",
       "Parch          0\n",
       "Ticket         0\n",
       "Fare           0\n",
       "Sex_male       0\n",
       "Pclass_2       0\n",
       "Pclass_3       0\n",
       "Embarked_Q     0\n",
       "Embarked_S     0\n",
       "dtype: int64"
      ]
     },
     "execution_count": 21,
     "metadata": {},
     "output_type": "execute_result"
    }
   ],
   "source": [
    "# check the number of missing values in each column\n",
    "titanic.isnull().sum()"
   ]
  },
  {
   "cell_type": "markdown",
   "id": "3e8d08ae",
   "metadata": {},
   "source": [
    "## 3.Data Preprocessing\n",
    "In this step, you'll prepare the data for modeling. This includes handling missing values, encoding categorical variables, and feature scaling."
   ]
  },
  {
   "cell_type": "code",
   "execution_count": null,
   "id": "9554e206",
   "metadata": {},
   "outputs": [],
   "source": [
    "# replacing the missing values in \"Age\" column with mean value\n",
    "titanic['Age'].fillna(titanic['Age'].mean(), inplace=True)"
   ]
  },
  {
   "cell_type": "code",
   "execution_count": 25,
   "id": "99498526",
   "metadata": {},
   "outputs": [
    {
     "name": "stdout",
     "output_type": "stream",
     "text": [
      "0    0\n",
      "Name: Embarked_Q, dtype: uint8\n"
     ]
    }
   ],
   "source": [
    "# Finding the mode value of \"Embarked\" column\n",
    "print(titanic['Embarked_Q'].mode())\n"
   ]
  },
  {
   "cell_type": "code",
   "execution_count": 24,
   "id": "8b4f7f1e",
   "metadata": {},
   "outputs": [
    {
     "name": "stdout",
     "output_type": "stream",
     "text": [
      "   PassengerId  Survived                                               Name  \\\n",
      "0            1         0                            Braund, Mr. Owen Harris   \n",
      "1            2         1  Cumings, Mrs. John Bradley (Florence Briggs Th...   \n",
      "2            3         1                             Heikkinen, Miss. Laina   \n",
      "3            4         1       Futrelle, Mrs. Jacques Heath (Lily May Peel)   \n",
      "4            5         0                           Allen, Mr. William Henry   \n",
      "\n",
      "    Age  SibSp  Parch            Ticket     Fare  Sex_male  Pclass_2  \\\n",
      "0  22.0      1      0         A/5 21171   7.2500         1         0   \n",
      "1  38.0      1      0          PC 17599  71.2833         0         0   \n",
      "2  26.0      0      0  STON/O2. 3101282   7.9250         0         0   \n",
      "3  35.0      1      0            113803  53.1000         0         0   \n",
      "4  35.0      0      0            373450   8.0500         1         0   \n",
      "\n",
      "   Pclass_3  Embarked_Q  Embarked_S  \n",
      "0         1           0           1  \n",
      "1         0           0           0  \n",
      "2         1           0           1  \n",
      "3         0           0           1  \n",
      "4         1           0           1  \n",
      "Index(['PassengerId', 'Survived', 'Name', 'Age', 'SibSp', 'Parch', 'Ticket',\n",
      "       'Fare', 'Sex_male', 'Pclass_2', 'Pclass_3', 'Embarked_Q', 'Embarked_S'],\n",
      "      dtype='object')\n"
     ]
    }
   ],
   "source": [
    "# Display the first few rows of the DataFrame\n",
    "print(titanic.head())\n",
    "\n",
    "# Display the column names\n",
    "print(titanic.columns)\n"
   ]
  },
  {
   "cell_type": "code",
   "execution_count": 27,
   "id": "31fda8b1",
   "metadata": {},
   "outputs": [
    {
     "name": "stdout",
     "output_type": "stream",
     "text": [
      "0\n"
     ]
    }
   ],
   "source": [
    "print(titanic['Embarked_Q'].mode()[0])"
   ]
  },
  {
   "cell_type": "code",
   "execution_count": 28,
   "id": "1a3f3519",
   "metadata": {},
   "outputs": [
    {
     "name": "stdout",
     "output_type": "stream",
     "text": [
      "0    1\n",
      "Name: Embarked_S, dtype: uint8\n"
     ]
    }
   ],
   "source": [
    "print(titanic['Embarked_S'].mode())"
   ]
  },
  {
   "cell_type": "code",
   "execution_count": 29,
   "id": "6abc0f41",
   "metadata": {},
   "outputs": [],
   "source": [
    "# replacing the missing values in \"Embarked\" column with mode value\n",
    "titanic['Embarked_Q'].fillna(titanic['Embarked_Q'].mode()[0], inplace=True)"
   ]
  },
  {
   "cell_type": "code",
   "execution_count": 30,
   "id": "ead45cba",
   "metadata": {},
   "outputs": [
    {
     "data": {
      "text/plain": [
       "PassengerId    0\n",
       "Survived       0\n",
       "Name           0\n",
       "Age            0\n",
       "SibSp          0\n",
       "Parch          0\n",
       "Ticket         0\n",
       "Fare           0\n",
       "Sex_male       0\n",
       "Pclass_2       0\n",
       "Pclass_3       0\n",
       "Embarked_Q     0\n",
       "Embarked_S     0\n",
       "dtype: int64"
      ]
     },
     "execution_count": 30,
     "metadata": {},
     "output_type": "execute_result"
    }
   ],
   "source": [
    "# check the number of missing values in each column\n",
    "titanic.isnull().sum()"
   ]
  },
  {
   "cell_type": "code",
   "execution_count": 31,
   "id": "3d7095b5",
   "metadata": {},
   "outputs": [],
   "source": [
    "# replacing the missing values in \"Embarked\" column with mode value\n",
    "titanic['Embarked_S'].fillna(titanic['Embarked_S'].mode()[0], inplace=True)"
   ]
  },
  {
   "cell_type": "code",
   "execution_count": 46,
   "id": "9fc0e0ea",
   "metadata": {},
   "outputs": [
    {
     "name": "stdout",
     "output_type": "stream",
     "text": [
      "Index(['PassengerId', 'Survived', 'Name', 'Age', 'SibSp', 'Parch', 'Ticket',\n",
      "       'Fare', 'Pclass_3', 'Embarked_S', 'Sex_male_1', 'Pclass_2_1',\n",
      "       'Embarked_Q_1'],\n",
      "      dtype='object')\n"
     ]
    }
   ],
   "source": [
    "# Display the column names in your DataFrame\n",
    "print(titanic.columns)\n",
    "\n",
    "# Feature selection\n",
    "X = titanic[['Pclass_2_1', 'Age', 'SibSp', 'Parch', 'Fare', 'Sex_male_1', 'Embarked_Q_1', 'Embarked_S']]\n",
    "y = titanic['Survived']\n"
   ]
  },
  {
   "cell_type": "markdown",
   "id": "77f3d3e4",
   "metadata": {},
   "source": [
    "## 4.Data Analysis"
   ]
  },
  {
   "cell_type": "code",
   "execution_count": 45,
   "id": "84911cee",
   "metadata": {},
   "outputs": [
    {
     "data": {
      "text/html": [
       "<div>\n",
       "<style scoped>\n",
       "    .dataframe tbody tr th:only-of-type {\n",
       "        vertical-align: middle;\n",
       "    }\n",
       "\n",
       "    .dataframe tbody tr th {\n",
       "        vertical-align: top;\n",
       "    }\n",
       "\n",
       "    .dataframe thead th {\n",
       "        text-align: right;\n",
       "    }\n",
       "</style>\n",
       "<table border=\"1\" class=\"dataframe\">\n",
       "  <thead>\n",
       "    <tr style=\"text-align: right;\">\n",
       "      <th></th>\n",
       "      <th>PassengerId</th>\n",
       "      <th>Survived</th>\n",
       "      <th>Age</th>\n",
       "      <th>SibSp</th>\n",
       "      <th>Parch</th>\n",
       "      <th>Fare</th>\n",
       "      <th>Pclass_3</th>\n",
       "      <th>Embarked_S</th>\n",
       "      <th>Sex_male_1</th>\n",
       "      <th>Pclass_2_1</th>\n",
       "      <th>Embarked_Q_1</th>\n",
       "    </tr>\n",
       "  </thead>\n",
       "  <tbody>\n",
       "    <tr>\n",
       "      <th>count</th>\n",
       "      <td>891.000000</td>\n",
       "      <td>891.000000</td>\n",
       "      <td>891.000000</td>\n",
       "      <td>891.000000</td>\n",
       "      <td>891.000000</td>\n",
       "      <td>891.000000</td>\n",
       "      <td>891.000000</td>\n",
       "      <td>891.000000</td>\n",
       "      <td>891.000000</td>\n",
       "      <td>891.000000</td>\n",
       "      <td>891.000000</td>\n",
       "    </tr>\n",
       "    <tr>\n",
       "      <th>mean</th>\n",
       "      <td>446.000000</td>\n",
       "      <td>0.383838</td>\n",
       "      <td>29.361582</td>\n",
       "      <td>0.523008</td>\n",
       "      <td>0.381594</td>\n",
       "      <td>32.204208</td>\n",
       "      <td>0.551066</td>\n",
       "      <td>0.725028</td>\n",
       "      <td>0.647587</td>\n",
       "      <td>0.206510</td>\n",
       "      <td>0.086420</td>\n",
       "    </tr>\n",
       "    <tr>\n",
       "      <th>std</th>\n",
       "      <td>257.353842</td>\n",
       "      <td>0.486592</td>\n",
       "      <td>13.019697</td>\n",
       "      <td>1.102743</td>\n",
       "      <td>0.806057</td>\n",
       "      <td>49.693429</td>\n",
       "      <td>0.497665</td>\n",
       "      <td>0.446751</td>\n",
       "      <td>0.477990</td>\n",
       "      <td>0.405028</td>\n",
       "      <td>0.281141</td>\n",
       "    </tr>\n",
       "    <tr>\n",
       "      <th>min</th>\n",
       "      <td>1.000000</td>\n",
       "      <td>0.000000</td>\n",
       "      <td>0.420000</td>\n",
       "      <td>0.000000</td>\n",
       "      <td>0.000000</td>\n",
       "      <td>0.000000</td>\n",
       "      <td>0.000000</td>\n",
       "      <td>0.000000</td>\n",
       "      <td>0.000000</td>\n",
       "      <td>0.000000</td>\n",
       "      <td>0.000000</td>\n",
       "    </tr>\n",
       "    <tr>\n",
       "      <th>25%</th>\n",
       "      <td>223.500000</td>\n",
       "      <td>0.000000</td>\n",
       "      <td>22.000000</td>\n",
       "      <td>0.000000</td>\n",
       "      <td>0.000000</td>\n",
       "      <td>7.910400</td>\n",
       "      <td>0.000000</td>\n",
       "      <td>0.000000</td>\n",
       "      <td>0.000000</td>\n",
       "      <td>0.000000</td>\n",
       "      <td>0.000000</td>\n",
       "    </tr>\n",
       "    <tr>\n",
       "      <th>50%</th>\n",
       "      <td>446.000000</td>\n",
       "      <td>0.000000</td>\n",
       "      <td>28.000000</td>\n",
       "      <td>0.000000</td>\n",
       "      <td>0.000000</td>\n",
       "      <td>14.454200</td>\n",
       "      <td>1.000000</td>\n",
       "      <td>1.000000</td>\n",
       "      <td>1.000000</td>\n",
       "      <td>0.000000</td>\n",
       "      <td>0.000000</td>\n",
       "    </tr>\n",
       "    <tr>\n",
       "      <th>75%</th>\n",
       "      <td>668.500000</td>\n",
       "      <td>1.000000</td>\n",
       "      <td>35.000000</td>\n",
       "      <td>1.000000</td>\n",
       "      <td>0.000000</td>\n",
       "      <td>31.000000</td>\n",
       "      <td>1.000000</td>\n",
       "      <td>1.000000</td>\n",
       "      <td>1.000000</td>\n",
       "      <td>0.000000</td>\n",
       "      <td>0.000000</td>\n",
       "    </tr>\n",
       "    <tr>\n",
       "      <th>max</th>\n",
       "      <td>891.000000</td>\n",
       "      <td>1.000000</td>\n",
       "      <td>80.000000</td>\n",
       "      <td>8.000000</td>\n",
       "      <td>6.000000</td>\n",
       "      <td>512.329200</td>\n",
       "      <td>1.000000</td>\n",
       "      <td>1.000000</td>\n",
       "      <td>1.000000</td>\n",
       "      <td>1.000000</td>\n",
       "      <td>1.000000</td>\n",
       "    </tr>\n",
       "  </tbody>\n",
       "</table>\n",
       "</div>"
      ],
      "text/plain": [
       "       PassengerId    Survived         Age       SibSp       Parch  \\\n",
       "count   891.000000  891.000000  891.000000  891.000000  891.000000   \n",
       "mean    446.000000    0.383838   29.361582    0.523008    0.381594   \n",
       "std     257.353842    0.486592   13.019697    1.102743    0.806057   \n",
       "min       1.000000    0.000000    0.420000    0.000000    0.000000   \n",
       "25%     223.500000    0.000000   22.000000    0.000000    0.000000   \n",
       "50%     446.000000    0.000000   28.000000    0.000000    0.000000   \n",
       "75%     668.500000    1.000000   35.000000    1.000000    0.000000   \n",
       "max     891.000000    1.000000   80.000000    8.000000    6.000000   \n",
       "\n",
       "             Fare    Pclass_3  Embarked_S  Sex_male_1  Pclass_2_1  \\\n",
       "count  891.000000  891.000000  891.000000  891.000000  891.000000   \n",
       "mean    32.204208    0.551066    0.725028    0.647587    0.206510   \n",
       "std     49.693429    0.497665    0.446751    0.477990    0.405028   \n",
       "min      0.000000    0.000000    0.000000    0.000000    0.000000   \n",
       "25%      7.910400    0.000000    0.000000    0.000000    0.000000   \n",
       "50%     14.454200    1.000000    1.000000    1.000000    0.000000   \n",
       "75%     31.000000    1.000000    1.000000    1.000000    0.000000   \n",
       "max    512.329200    1.000000    1.000000    1.000000    1.000000   \n",
       "\n",
       "       Embarked_Q_1  \n",
       "count    891.000000  \n",
       "mean       0.086420  \n",
       "std        0.281141  \n",
       "min        0.000000  \n",
       "25%        0.000000  \n",
       "50%        0.000000  \n",
       "75%        0.000000  \n",
       "max        1.000000  "
      ]
     },
     "execution_count": 45,
     "metadata": {},
     "output_type": "execute_result"
    }
   ],
   "source": [
    "# getting some statistical measures about the data\n",
    "titanic.describe()"
   ]
  },
  {
   "cell_type": "code",
   "execution_count": 34,
   "id": "dc7fa064",
   "metadata": {},
   "outputs": [
    {
     "data": {
      "text/plain": [
       "0    549\n",
       "1    342\n",
       "Name: Survived, dtype: int64"
      ]
     },
     "execution_count": 34,
     "metadata": {},
     "output_type": "execute_result"
    }
   ],
   "source": [
    "# finding the number of people survived and not survived\n",
    "titanic['Survived'].value_counts()"
   ]
  },
  {
   "cell_type": "markdown",
   "id": "a3e04854",
   "metadata": {},
   "source": [
    "## 5.Data Visualization\n"
   ]
  },
  {
   "cell_type": "code",
   "execution_count": 48,
   "id": "6ea03ec4",
   "metadata": {},
   "outputs": [],
   "source": [
    "sns.set()\n"
   ]
  },
  {
   "cell_type": "code",
   "execution_count": 49,
   "id": "1b4f414a",
   "metadata": {},
   "outputs": [
    {
     "data": {
      "text/plain": [
       "<Axes: xlabel='Survived', ylabel='count'>"
      ]
     },
     "execution_count": 49,
     "metadata": {},
     "output_type": "execute_result"
    },
    {
     "data": {
      "image/png": "[encoded data removed]",
      "text/plain": [
       "<Figure size 640x480 with 1 Axes>"
      ]
     },
     "metadata": {},
     "output_type": "display_data"
    }
   ],
   "source": [
    "# making a count plot for \"Survived\" column\n",
    "sns.countplot(x='Survived', data=titanic)"
   ]
  },
  {
   "cell_type": "code",
   "execution_count": 51,
   "id": "c0285b22",
   "metadata": {},
   "outputs": [
    {
     "data": {
      "text/plain": [
       "1    577\n",
       "0    314\n",
       "Name: Sex_male_1, dtype: int64"
      ]
     },
     "execution_count": 51,
     "metadata": {},
     "output_type": "execute_result"
    }
   ],
   "source": [
    "titanic['Sex_male_1'].value_counts()"
   ]
  },
  {
   "cell_type": "code",
   "execution_count": 52,
   "id": "a947d91d",
   "metadata": {},
   "outputs": [
    {
     "data": {
      "text/plain": [
       "<Axes: xlabel='Sex_male_1', ylabel='count'>"
      ]
     },
     "execution_count": 52,
     "metadata": {},
     "output_type": "execute_result"
    },
    {
     "data": {
      "image/png": "[encoded data removed]",
      "text/plain": [
       "<Figure size 640x480 with 1 Axes>"
      ]
     },
     "metadata": {},
     "output_type": "display_data"
    }
   ],
   "source": [
    "# making a count plot for \"Sex\" column\n",
    "sns.countplot(x='Sex_male_1', data=titanic)"
   ]
  },
  {
   "cell_type": "code",
   "execution_count": 53,
   "id": "8a6ecf90",
   "metadata": {},
   "outputs": [
    {
     "data": {
      "text/plain": [
       "<Axes: xlabel='Pclass_3', ylabel='count'>"
      ]
     },
     "execution_count": 53,
     "metadata": {},
     "output_type": "execute_result"
    },
    {
     "data": {
      "image/png": "[encoded data removed]",
      "text/plain": [
       "<Figure size 640x480 with 1 Axes>"
      ]
     },
     "metadata": {},
     "output_type": "display_data"
    }
   ],
   "source": [
    "sns.countplot(x='Pclass_3', hue='Survived', data=titanic)"
   ]
  },
  {
   "cell_type": "code",
   "execution_count": 54,
   "id": "9e2df7df",
   "metadata": {},
   "outputs": [
    {
     "data": {
      "text/html": [
       "<div>\n",
       "<style scoped>\n",
       "    .dataframe tbody tr th:only-of-type {\n",
       "        vertical-align: middle;\n",
       "    }\n",
       "\n",
       "    .dataframe tbody tr th {\n",
       "        vertical-align: top;\n",
       "    }\n",
       "\n",
       "    .dataframe thead th {\n",
       "        text-align: right;\n",
       "    }\n",
       "</style>\n",
       "<table border=\"1\" class=\"dataframe\">\n",
       "  <thead>\n",
       "    <tr style=\"text-align: right;\">\n",
       "      <th></th>\n",
       "      <th>PassengerId</th>\n",
       "      <th>Survived</th>\n",
       "      <th>Name</th>\n",
       "      <th>Age</th>\n",
       "      <th>SibSp</th>\n",
       "      <th>Parch</th>\n",
       "      <th>Ticket</th>\n",
       "      <th>Fare</th>\n",
       "      <th>Pclass_3</th>\n",
       "      <th>Embarked_S</th>\n",
       "      <th>Sex_male_1</th>\n",
       "      <th>Pclass_2_1</th>\n",
       "      <th>Embarked_Q_1</th>\n",
       "    </tr>\n",
       "  </thead>\n",
       "  <tbody>\n",
       "    <tr>\n",
       "      <th>0</th>\n",
       "      <td>1</td>\n",
       "      <td>0</td>\n",
       "      <td>Braund, Mr. Owen Harris</td>\n",
       "      <td>22.0</td>\n",
       "      <td>1</td>\n",
       "      <td>0</td>\n",
       "      <td>A/5 21171</td>\n",
       "      <td>7.2500</td>\n",
       "      <td>1</td>\n",
       "      <td>1</td>\n",
       "      <td>1</td>\n",
       "      <td>0</td>\n",
       "      <td>0</td>\n",
       "    </tr>\n",
       "    <tr>\n",
       "      <th>1</th>\n",
       "      <td>2</td>\n",
       "      <td>1</td>\n",
       "      <td>Cumings, Mrs. John Bradley (Florence Briggs Th...</td>\n",
       "      <td>38.0</td>\n",
       "      <td>1</td>\n",
       "      <td>0</td>\n",
       "      <td>PC 17599</td>\n",
       "      <td>71.2833</td>\n",
       "      <td>0</td>\n",
       "      <td>0</td>\n",
       "      <td>0</td>\n",
       "      <td>0</td>\n",
       "      <td>0</td>\n",
       "    </tr>\n",
       "    <tr>\n",
       "      <th>2</th>\n",
       "      <td>3</td>\n",
       "      <td>1</td>\n",
       "      <td>Heikkinen, Miss. Laina</td>\n",
       "      <td>26.0</td>\n",
       "      <td>0</td>\n",
       "      <td>0</td>\n",
       "      <td>STON/O2. 3101282</td>\n",
       "      <td>7.9250</td>\n",
       "      <td>1</td>\n",
       "      <td>1</td>\n",
       "      <td>0</td>\n",
       "      <td>0</td>\n",
       "      <td>0</td>\n",
       "    </tr>\n",
       "    <tr>\n",
       "      <th>3</th>\n",
       "      <td>4</td>\n",
       "      <td>1</td>\n",
       "      <td>Futrelle, Mrs. Jacques Heath (Lily May Peel)</td>\n",
       "      <td>35.0</td>\n",
       "      <td>1</td>\n",
       "      <td>0</td>\n",
       "      <td>113803</td>\n",
       "      <td>53.1000</td>\n",
       "      <td>0</td>\n",
       "      <td>1</td>\n",
       "      <td>0</td>\n",
       "      <td>0</td>\n",
       "      <td>0</td>\n",
       "    </tr>\n",
       "    <tr>\n",
       "      <th>4</th>\n",
       "      <td>5</td>\n",
       "      <td>0</td>\n",
       "      <td>Allen, Mr. William Henry</td>\n",
       "      <td>35.0</td>\n",
       "      <td>0</td>\n",
       "      <td>0</td>\n",
       "      <td>373450</td>\n",
       "      <td>8.0500</td>\n",
       "      <td>1</td>\n",
       "      <td>1</td>\n",
       "      <td>1</td>\n",
       "      <td>0</td>\n",
       "      <td>0</td>\n",
       "    </tr>\n",
       "  </tbody>\n",
       "</table>\n",
       "</div>"
      ],
      "text/plain": [
       "   PassengerId  Survived                                               Name  \\\n",
       "0            1         0                            Braund, Mr. Owen Harris   \n",
       "1            2         1  Cumings, Mrs. John Bradley (Florence Briggs Th...   \n",
       "2            3         1                             Heikkinen, Miss. Laina   \n",
       "3            4         1       Futrelle, Mrs. Jacques Heath (Lily May Peel)   \n",
       "4            5         0                           Allen, Mr. William Henry   \n",
       "\n",
       "    Age  SibSp  Parch            Ticket     Fare  Pclass_3  Embarked_S  \\\n",
       "0  22.0      1      0         A/5 21171   7.2500         1           1   \n",
       "1  38.0      1      0          PC 17599  71.2833         0           0   \n",
       "2  26.0      0      0  STON/O2. 3101282   7.9250         1           1   \n",
       "3  35.0      1      0            113803  53.1000         0           1   \n",
       "4  35.0      0      0            373450   8.0500         1           1   \n",
       "\n",
       "   Sex_male_1  Pclass_2_1  Embarked_Q_1  \n",
       "0           1           0             0  \n",
       "1           0           0             0  \n",
       "2           0           0             0  \n",
       "3           0           0             0  \n",
       "4           1           0             0  "
      ]
     },
     "execution_count": 54,
     "metadata": {},
     "output_type": "execute_result"
    }
   ],
   "source": [
    "titanic.head()"
   ]
  },
  {
   "cell_type": "markdown",
   "id": "4111438e",
   "metadata": {},
   "source": [
    "## 6.Split the Data\n",
    "Split the dataset into training and testing sets. This allows you to train the model on one part of the data and evaluate it on another."
   ]
  },
  {
   "cell_type": "code",
   "execution_count": 47,
   "id": "0eb829d7",
   "metadata": {},
   "outputs": [],
   "source": [
    "X_train, X_test, y_train, y_test = train_test_split(X, y, test_size=0.2, random_state=42)\n"
   ]
  },
  {
   "cell_type": "code",
   "execution_count": 55,
   "id": "9409e07c",
   "metadata": {},
   "outputs": [
    {
     "name": "stdout",
     "output_type": "stream",
     "text": [
      "     Pclass_2_1   Age  SibSp  Parch     Fare  Sex_male_1  Embarked_Q_1  \\\n",
      "0             0  22.0      1      0   7.2500           1             0   \n",
      "1             0  38.0      1      0  71.2833           0             0   \n",
      "2             0  26.0      0      0   7.9250           0             0   \n",
      "3             0  35.0      1      0  53.1000           0             0   \n",
      "4             0  35.0      0      0   8.0500           1             0   \n",
      "..          ...   ...    ...    ...      ...         ...           ...   \n",
      "886           1  27.0      0      0  13.0000           1             0   \n",
      "887           0  19.0      0      0  30.0000           0             0   \n",
      "888           0  28.0      1      2  23.4500           0             0   \n",
      "889           0  26.0      0      0  30.0000           1             0   \n",
      "890           0  32.0      0      0   7.7500           1             1   \n",
      "\n",
      "     Embarked_S  \n",
      "0             1  \n",
      "1             0  \n",
      "2             1  \n",
      "3             1  \n",
      "4             1  \n",
      "..          ...  \n",
      "886           1  \n",
      "887           1  \n",
      "888           1  \n",
      "889           0  \n",
      "890           0  \n",
      "\n",
      "[891 rows x 8 columns]\n"
     ]
    }
   ],
   "source": [
    "print(X)"
   ]
  },
  {
   "cell_type": "code",
   "execution_count": 57,
   "id": "9071527a",
   "metadata": {},
   "outputs": [
    {
     "name": "stdout",
     "output_type": "stream",
     "text": [
      "0      0\n",
      "1      1\n",
      "2      1\n",
      "3      1\n",
      "4      0\n",
      "      ..\n",
      "886    0\n",
      "887    1\n",
      "888    0\n",
      "889    1\n",
      "890    0\n",
      "Name: Survived, Length: 891, dtype: int64\n"
     ]
    }
   ],
   "source": [
    "print(y)"
   ]
  },
  {
   "cell_type": "code",
   "execution_count": 58,
   "id": "0c13e16b",
   "metadata": {},
   "outputs": [
    {
     "name": "stdout",
     "output_type": "stream",
     "text": [
      "(891, 8) (712, 8) (179, 8)\n"
     ]
    }
   ],
   "source": [
    "print(X.shape, X_train.shape, X_test.shape)"
   ]
  },
  {
   "cell_type": "markdown",
   "id": "9268814e",
   "metadata": {},
   "source": [
    " ## 7.Create and Train a Random Forest Classifier\n",
    "For this example, we'll use a Random Forest classifier."
   ]
  },
  {
   "cell_type": "code",
   "execution_count": 59,
   "id": "3914dfaa",
   "metadata": {},
   "outputs": [
    {
     "data": {
      "text/html": [
       "<style>#sk-container-id-1 {color: black;}#sk-container-id-1 pre{padding: 0;}#sk-container-id-1 div.sk-toggleable {background-color: white;}#sk-container-id-1 label.sk-toggleable__label {cursor: pointer;display: block;width: 100%;margin-bottom: 0;padding: 0.3em;box-sizing: border-box;text-align: center;}#sk-container-id-1 label.sk-toggleable__label-arrow:before {content: \"▸\";float: left;margin-right: 0.25em;color: #696969;}#sk-container-id-1 label.sk-toggleable__label-arrow:hover:before {color: black;}#sk-container-id-1 div.sk-estimator:hover label.sk-toggleable__label-arrow:before {color: black;}#sk-container-id-1 div.sk-toggleable__content {max-height: 0;max-width: 0;overflow: hidden;text-align: left;background-color: #f0f8ff;}#sk-container-id-1 div.sk-toggleable__content pre {margin: 0.2em;color: black;border-radius: 0.25em;background-color: #f0f8ff;}#sk-container-id-1 input.sk-toggleable__control:checked~div.sk-toggleable__content {max-height: 200px;max-width: 100%;overflow: auto;}#sk-container-id-1 input.sk-toggleable__control:checked~label.sk-toggleable__label-arrow:before {content: \"▾\";}#sk-container-id-1 div.sk-estimator input.sk-toggleable__control:checked~label.sk-toggleable__label {background-color: #d4ebff;}#sk-container-id-1 div.sk-label input.sk-toggleable__control:checked~label.sk-toggleable__label {background-color: #d4ebff;}#sk-container-id-1 input.sk-hidden--visually {border: 0;clip: rect(1px 1px 1px 1px);clip: rect(1px, 1px, 1px, 1px);height: 1px;margin: -1px;overflow: hidden;padding: 0;position: absolute;width: 1px;}#sk-container-id-1 div.sk-estimator {font-family: monospace;background-color: #f0f8ff;border: 1px dotted black;border-radius: 0.25em;box-sizing: border-box;margin-bottom: 0.5em;}#sk-container-id-1 div.sk-estimator:hover {background-color: #d4ebff;}#sk-container-id-1 div.sk-parallel-item::after {content: \"\";width: 100%;border-bottom: 1px solid gray;flex-grow: 1;}#sk-container-id-1 div.sk-label:hover label.sk-toggleable__label {background-color: #d4ebff;}#sk-container-id-1 div.sk-serial::before {content: \"\";position: absolute;border-left: 1px solid gray;box-sizing: border-box;top: 0;bottom: 0;left: 50%;z-index: 0;}#sk-container-id-1 div.sk-serial {display: flex;flex-direction: column;align-items: center;background-color: white;padding-right: 0.2em;padding-left: 0.2em;position: relative;}#sk-container-id-1 div.sk-item {position: relative;z-index: 1;}#sk-container-id-1 div.sk-parallel {display: flex;align-items: stretch;justify-content: center;background-color: white;position: relative;}#sk-container-id-1 div.sk-item::before, #sk-container-id-1 div.sk-parallel-item::before {content: \"\";position: absolute;border-left: 1px solid gray;box-sizing: border-box;top: 0;bottom: 0;left: 50%;z-index: -1;}#sk-container-id-1 div.sk-parallel-item {display: flex;flex-direction: column;z-index: 1;position: relative;background-color: white;}#sk-container-id-1 div.sk-parallel-item:first-child::after {align-self: flex-end;width: 50%;}#sk-container-id-1 div.sk-parallel-item:last-child::after {align-self: flex-start;width: 50%;}#sk-container-id-1 div.sk-parallel-item:only-child::after {width: 0;}#sk-container-id-1 div.sk-dashed-wrapped {border: 1px dashed gray;margin: 0 0.4em 0.5em 0.4em;box-sizing: border-box;padding-bottom: 0.4em;background-color: white;}#sk-container-id-1 div.sk-label label {font-family: monospace;font-weight: bold;display: inline-block;line-height: 1.2em;}#sk-container-id-1 div.sk-label-container {text-align: center;}#sk-container-id-1 div.sk-container {/* jupyter's `normalize.less` sets `[hidden] { display: none; }` but bootstrap.min.css set `[hidden] { display: none !important; }` so we also need the `!important` here to be able to override the default hidden behavior on the sphinx rendered scikit-learn.org. See: https://github.com/scikit-learn/scikit-learn/issues/21755 */display: inline-block !important;position: relative;}#sk-container-id-1 div.sk-text-repr-fallback {display: none;}</style><div id=\"sk-container-id-1\" class=\"sk-top-container\"><div class=\"sk-text-repr-fallback\"><pre>RandomForestClassifier(random_state=42)</pre><b>In a Jupyter environment, please rerun this cell to show the HTML representation or trust the notebook. <br />On GitHub, the HTML representation is unable to render, please try loading this page with nbviewer.org.</b></div><div class=\"sk-container\" hidden><div class=\"sk-item\"><div class=\"sk-estimator sk-toggleable\"><input class=\"sk-toggleable__control sk-hidden--visually\" id=\"sk-estimator-id-1\" type=\"checkbox\" checked><label for=\"sk-estimator-id-1\" class=\"sk-toggleable__label sk-toggleable__label-arrow\">RandomForestClassifier</label><div class=\"sk-toggleable__content\"><pre>RandomForestClassifier(random_state=42)</pre></div></div></div></div></div>"
      ],
      "text/plain": [
       "RandomForestClassifier(random_state=42)"
      ]
     },
     "execution_count": 59,
     "metadata": {},
     "output_type": "execute_result"
    }
   ],
   "source": [
    "# Create a Random Forest Classifier\n",
    "clf = RandomForestClassifier(random_state=42)\n",
    "\n",
    "# Train the classifier\n",
    "clf.fit(X_train, y_train)\n"
   ]
  },
  {
   "cell_type": "markdown",
   "id": "7cdea029",
   "metadata": {},
   "source": [
    "## 8.Make Predictions\n",
    "Use the trained model to make predictions on the test set."
   ]
  },
  {
   "cell_type": "code",
   "execution_count": 60,
   "id": "cef94e2c",
   "metadata": {},
   "outputs": [],
   "source": [
    "y_pred = clf.predict(X_test)\n"
   ]
  },
  {
   "cell_type": "markdown",
   "id": "290b3da7",
   "metadata": {},
   "source": [
    "## 9.Evaluate the Model\n",
    "Evaluate the model's performance using metrics such as accuracy and classification report.\n"
   ]
  },
  {
   "cell_type": "code",
   "execution_count": 61,
   "id": "f497dd3b",
   "metadata": {},
   "outputs": [
    {
     "name": "stdout",
     "output_type": "stream",
     "text": [
      "Accuracy: 0.7988826815642458\n",
      "Classification Report:\n",
      "              precision    recall  f1-score   support\n",
      "\n",
      "           0       0.82      0.84      0.83       105\n",
      "           1       0.76      0.74      0.75        74\n",
      "\n",
      "    accuracy                           0.80       179\n",
      "   macro avg       0.79      0.79      0.79       179\n",
      "weighted avg       0.80      0.80      0.80       179\n",
      "\n"
     ]
    }
   ],
   "source": [
    "accuracy = accuracy_score(y_test, y_pred)\n",
    "report = classification_report(y_test, y_pred)\n",
    "\n",
    "print(f'Accuracy: {accuracy}')\n",
    "print('Classification Report:')\n",
    "print(report)\n"
   ]
  },
  {
   "cell_type": "markdown",
   "id": "7f45b9b0",
   "metadata": {},
   "source": [
    "# Conclusion\n",
    "\n",
    "In this Titanic survival prediction project, we have conducted a thorough analysis of the dataset and built a machine learning model to predict the likelihood of passenger survival. Here are the key takeaways:\n",
    "\n",
    "1. **Data Preprocessing**: We handled missing values in the 'Age' and 'Embarked' columns by filling them with appropriate values (median and mode, respectively). Additionally, we encoded categorical variables and selected relevant features.\n",
    "\n",
    "2. **Model Selection**: We chose a Random Forest classifier as our predictive model due to its ability to handle both numerical and categorical data and its robustness.\n",
    "\n",
    "3. **Model Training and Evaluation**: The model was trained on the training data and evaluated on the testing data. We achieved an accuracy of [insert accuracy value here] on the test set.\n",
    "\n",
    "4. **Feature Importance**: We visualized the feature importance, which indicated that factors such as 'Sex', 'Pclass', and 'Age' had significant impacts on survival prediction.\n",
    "\n",
    "5. **Insights**: Through data exploration, we observed [mention any interesting patterns or insights you discovered].\n",
    "\n",
    "6. **Future Work**: There is potential for further improving the model's performance by fine-tuning hyperparameters and exploring more advanced algorithms.\n",
    "\n",
    "Overall, this project provides valuable insights into factors influencing Titanic passenger survival and demonstrates the use of machine learning for predictive modeling.\n",
    "\n",
    "Thank you for following along with this analysis!\n"
   ]
  }
 ],
 "metadata": {
  "kernelspec": {
   "display_name": "Python 3 (ipykernel)",
   "language": "python",
   "name": "python3"
  },
  "language_info": {
   "codemirror_mode": {
    "name": "ipython",
    "version": 3
   },
   "file_extension": ".py",
   "mimetype": "text/x-python",
   "name": "python",
   "nbconvert_exporter": "python",
   "pygments_lexer": "ipython3",
   "version": "3.11.4"
  }
 },
 "nbformat": 4,
 "nbformat_minor": 5
}
